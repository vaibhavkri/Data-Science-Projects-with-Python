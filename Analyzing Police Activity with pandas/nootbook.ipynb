{
 "cells": [
  {
   "cell_type": "code",
   "execution_count": 1,
   "metadata": {},
   "outputs": [
    {
     "name": "stderr",
     "output_type": "stream",
     "text": [
      "/Users/vaibhav/opt/anaconda3/lib/python3.7/site-packages/IPython/core/interactiveshell.py:3063: DtypeWarning: Columns (8,16) have mixed types.Specify dtype option on import or set low_memory=False.\n",
      "  interactivity=interactivity, compiler=compiler, result=result)\n"
     ]
    },
    {
     "name": "stdout",
     "output_type": "stream",
     "text": [
      "              id state   stop_date stop_time location_raw  county_name  \\\n",
      "0  RI-2005-00001    RI  2005-01-02     01:55      Zone K1          NaN   \n",
      "1  RI-2005-00002    RI  2005-01-02     20:30      Zone X4          NaN   \n",
      "2  RI-2005-00003    RI  2005-01-04     11:30      Zone X1          NaN   \n",
      "3  RI-2005-00004    RI  2005-01-04     12:55      Zone X4          NaN   \n",
      "4  RI-2005-00005    RI  2005-01-06     01:30      Zone X4          NaN   \n",
      "\n",
      "   county_fips  fine_grained_location police_department driver_gender  ...  \\\n",
      "0          NaN                    NaN               600             M  ...   \n",
      "1          NaN                    NaN               500             M  ...   \n",
      "2          NaN                    NaN                 0           NaN  ...   \n",
      "3          NaN                    NaN               500             M  ...   \n",
      "4          NaN                    NaN               500             M  ...   \n",
      "\n",
      "   search_conducted  search_type_raw search_type contraband_found  \\\n",
      "0             False              NaN         NaN            False   \n",
      "1             False              NaN         NaN            False   \n",
      "2             False              NaN         NaN            False   \n",
      "3             False              NaN         NaN            False   \n",
      "4             False              NaN         NaN            False   \n",
      "\n",
      "  stop_outcome is_arrested stop_duration out_of_state drugs_related_stop  \\\n",
      "0     Citation       False      0-15 Min        False              False   \n",
      "1     Citation       False     16-30 Min        False              False   \n",
      "2          NaN         NaN           NaN          NaN              False   \n",
      "3     Citation       False      0-15 Min        False              False   \n",
      "4     Citation       False      0-15 Min        False              False   \n",
      "\n",
      "   district  \n",
      "0   Zone K1  \n",
      "1   Zone X4  \n",
      "2   Zone X1  \n",
      "3   Zone X4  \n",
      "4   Zone X4  \n",
      "\n",
      "[5 rows x 26 columns]\n",
      "id                            0\n",
      "state                         0\n",
      "stop_date                    10\n",
      "stop_time                    10\n",
      "location_raw                  0\n",
      "county_name              509681\n",
      "county_fips              509681\n",
      "fine_grained_location    509681\n",
      "police_department            10\n",
      "driver_gender             29097\n",
      "driver_age_raw            29049\n",
      "driver_age                30695\n",
      "driver_race_raw           29073\n",
      "driver_race               29073\n",
      "violation_raw             29073\n",
      "violation                 29073\n",
      "search_conducted             10\n",
      "search_type_raw          491919\n",
      "search_type              491919\n",
      "contraband_found              0\n",
      "stop_outcome              29073\n",
      "is_arrested               29073\n",
      "stop_duration             29073\n",
      "out_of_state              29881\n",
      "drugs_related_stop            0\n",
      "district                      0\n",
      "dtype: int64\n"
     ]
    }
   ],
   "source": [
    "# Import the pandas library as pd\n",
    "import pandas as pd\n",
    "\n",
    "# Read 'police.csv' into a DataFrame named ri\n",
    "ri = pd.read_csv('/Users/vaibhav/Desktop/Python Projects/Python_Projects/Analyzing Police Activity with pandas/RI-clean.csv')\n",
    "\n",
    "# Examine the head of the DataFrame\n",
    "print(ri.head())\n",
    "\n",
    "# Count the number of missing values in each column\n",
    "print(ri.isnull().sum())"
   ]
  },
  {
   "cell_type": "code",
   "execution_count": 2,
   "metadata": {},
   "outputs": [
    {
     "name": "stdout",
     "output_type": "stream",
     "text": [
      "(509681, 26)\n",
      "(509681, 24)\n"
     ]
    }
   ],
   "source": [
    "# Examine the shape of the DataFrame\n",
    "print(ri.shape)\n",
    "\n",
    "# Drop the 'county_name' and 'state' columns\n",
    "ri.drop(['county_name', 'state'], axis='columns', inplace=True)\n",
    "\n",
    "# Examine the shape of the DataFrame (again)\n",
    "print(ri.shape)"
   ]
  },
  {
   "cell_type": "code",
   "execution_count": 3,
   "metadata": {},
   "outputs": [
    {
     "name": "stdout",
     "output_type": "stream",
     "text": [
      "id                            0\n",
      "stop_date                    10\n",
      "stop_time                    10\n",
      "location_raw                  0\n",
      "county_fips              509681\n",
      "fine_grained_location    509681\n",
      "police_department            10\n",
      "driver_gender             29097\n",
      "driver_age_raw            29049\n",
      "driver_age                30695\n",
      "driver_race_raw           29073\n",
      "driver_race               29073\n",
      "violation_raw             29073\n",
      "violation                 29073\n",
      "search_conducted             10\n",
      "search_type_raw          491919\n",
      "search_type              491919\n",
      "contraband_found              0\n",
      "stop_outcome              29073\n",
      "is_arrested               29073\n",
      "stop_duration             29073\n",
      "out_of_state              29881\n",
      "drugs_related_stop            0\n",
      "district                      0\n",
      "dtype: int64\n",
      "id                            0\n",
      "stop_date                     0\n",
      "stop_time                     0\n",
      "location_raw                  0\n",
      "county_fips              480584\n",
      "fine_grained_location    480584\n",
      "police_department             0\n",
      "driver_gender                 0\n",
      "driver_age_raw                1\n",
      "driver_age                 1638\n",
      "driver_race_raw               0\n",
      "driver_race                   0\n",
      "violation_raw                 0\n",
      "violation                     0\n",
      "search_conducted              0\n",
      "search_type_raw          462822\n",
      "search_type              462822\n",
      "contraband_found              0\n",
      "stop_outcome                  0\n",
      "is_arrested                   0\n",
      "stop_duration                 0\n",
      "out_of_state                808\n",
      "drugs_related_stop            0\n",
      "district                      0\n",
      "dtype: int64\n",
      "(480584, 24)\n"
     ]
    }
   ],
   "source": [
    "\n",
    "# Count the number of missing values in each column\n",
    "print(ri.isnull().sum())\n",
    "\n",
    "# Drop all rows that are missing 'driver_gender'\n",
    "ri.dropna(subset=['driver_gender'], inplace=True)\n",
    "\n",
    "# Count the number of missing values in each column (again)\n",
    "print(ri.isnull().sum())\n",
    "\n",
    "# Examine the shape of the DataFrame\n",
    "print(ri.shape)"
   ]
  },
  {
   "cell_type": "code",
   "execution_count": 4,
   "metadata": {},
   "outputs": [
    {
     "name": "stdout",
     "output_type": "stream",
     "text": [
      "object\n",
      "bool\n"
     ]
    }
   ],
   "source": [
    "# Examine the head of the 'is_arrested' column\n",
    "print(ri.is_arrested.dtype)\n",
    "\n",
    "# Change the data type of 'is_arrested' to 'bool'\n",
    "ri['is_arrested'] = ri.is_arrested.astype('bool')\n",
    "\n",
    "# Check the data type of 'is_arrested' \n",
    "print(ri.is_arrested.dtype)"
   ]
  },
  {
   "cell_type": "code",
   "execution_count": 5,
   "metadata": {},
   "outputs": [
    {
     "name": "stdout",
     "output_type": "stream",
     "text": [
      "id                               object\n",
      "stop_date                        object\n",
      "stop_time                        object\n",
      "location_raw                     object\n",
      "county_fips                     float64\n",
      "fine_grained_location           float64\n",
      "police_department                object\n",
      "driver_gender                    object\n",
      "driver_age_raw                  float64\n",
      "driver_age                      float64\n",
      "driver_race_raw                  object\n",
      "driver_race                      object\n",
      "violation_raw                    object\n",
      "violation                        object\n",
      "search_conducted                 object\n",
      "search_type_raw                  object\n",
      "search_type                      object\n",
      "contraband_found                   bool\n",
      "stop_outcome                     object\n",
      "is_arrested                        bool\n",
      "stop_duration                    object\n",
      "out_of_state                     object\n",
      "drugs_related_stop                 bool\n",
      "district                         object\n",
      "stop_datetime            datetime64[ns]\n",
      "dtype: object\n"
     ]
    }
   ],
   "source": [
    "# Concatenate 'stop_date' and 'stop_time' (separated by a space)\n",
    "combined = ri.stop_date.str.cat(ri.stop_time,sep = ' ')\n",
    "\n",
    "# Convert 'combined' to datetime format\n",
    "ri['stop_datetime'] = pd.to_datetime(combined)\n",
    "\n",
    "# Examine the data types of the DataFrame\n",
    "print(ri.dtypes)"
   ]
  },
  {
   "cell_type": "code",
   "execution_count": 6,
   "metadata": {},
   "outputs": [
    {
     "name": "stdout",
     "output_type": "stream",
     "text": [
      "DatetimeIndex(['2005-01-02 01:55:00', '2005-01-02 20:30:00',\n",
      "               '2005-01-04 12:55:00', '2005-01-06 01:30:00',\n",
      "               '2005-01-12 08:05:00', '2005-01-18 08:15:00',\n",
      "               '2005-01-18 17:13:00', '2005-01-23 23:15:00',\n",
      "               '2005-01-24 20:32:00', '2005-02-09 03:05:00',\n",
      "               ...\n",
      "               '2015-12-31 22:10:00', '2015-12-31 22:14:00',\n",
      "               '2015-12-31 22:26:00', '2015-12-31 22:38:00',\n",
      "               '2015-12-31 22:39:00', '2015-12-31 22:46:00',\n",
      "               '2015-12-31 22:47:00', '2015-12-31 23:08:00',\n",
      "               '2015-12-31 23:44:00', '2015-12-31 23:48:00'],\n",
      "              dtype='datetime64[ns]', name='stop_datetime', length=480584, freq=None)\n",
      "Index(['id', 'stop_date', 'stop_time', 'location_raw', 'county_fips',\n",
      "       'fine_grained_location', 'police_department', 'driver_gender',\n",
      "       'driver_age_raw', 'driver_age', 'driver_race_raw', 'driver_race',\n",
      "       'violation_raw', 'violation', 'search_conducted', 'search_type_raw',\n",
      "       'search_type', 'contraband_found', 'stop_outcome', 'is_arrested',\n",
      "       'stop_duration', 'out_of_state', 'drugs_related_stop', 'district'],\n",
      "      dtype='object')\n"
     ]
    }
   ],
   "source": [
    "# Set 'stop_datetime' as the index\n",
    "ri.set_index('stop_datetime', inplace=True)\n",
    "\n",
    "# Examine the index\n",
    "print(ri.index)\n",
    "\n",
    "# Examine the columns\n",
    "print(ri.columns)"
   ]
  },
  {
   "cell_type": "code",
   "execution_count": 7,
   "metadata": {},
   "outputs": [
    {
     "name": "stdout",
     "output_type": "stream",
     "text": [
      "Speeding               268736\n",
      "Moving violation        90228\n",
      "Equipment               61250\n",
      "Other                   24216\n",
      "Registration/plates     19830\n",
      "Seat belt               16324\n",
      "Name: violation, dtype: int64\n",
      "Speeding               0.559186\n",
      "Moving violation       0.187747\n",
      "Equipment              0.127449\n",
      "Other                  0.050389\n",
      "Registration/plates    0.041262\n",
      "Seat belt              0.033967\n",
      "Name: violation, dtype: float64\n"
     ]
    }
   ],
   "source": [
    "# Count the unique values in 'violation'\n",
    "print(ri.violation.value_counts())\n",
    "\n",
    "# Express the counts as proportions\n",
    "print(ri.violation.value_counts(normalize = True))"
   ]
  },
  {
   "cell_type": "code",
   "execution_count": 8,
   "metadata": {},
   "outputs": [
    {
     "name": "stdout",
     "output_type": "stream",
     "text": [
      "Speeding               0.657308\n",
      "Moving violation       0.136581\n",
      "Equipment              0.107055\n",
      "Registration/plates    0.043077\n",
      "Other                  0.028908\n",
      "Seat belt              0.027071\n",
      "Name: violation, dtype: float64\n",
      "Speeding               0.522364\n",
      "Moving violation       0.206948\n",
      "Equipment              0.135102\n",
      "Other                  0.058450\n",
      "Registration/plates    0.040581\n",
      "Seat belt              0.036555\n",
      "Name: violation, dtype: float64\n"
     ]
    }
   ],
   "source": [
    "\n",
    "# Create a DataFrame of female drivers\n",
    "female = ri[ri.driver_gender=='F']\n",
    "\n",
    "# Create a DataFrame of male drivers\n",
    "male = ri[ri.driver_gender=='M']\n",
    "\n",
    "# Compute the violations by female drivers (as proportions)\n",
    "print(female.violation.value_counts(normalize = True))\n",
    "\n",
    "# Compute the violations by male drivers (as proportions)\n",
    "print(male.violation.value_counts(normalize = True))"
   ]
  },
  {
   "cell_type": "code",
   "execution_count": 9,
   "metadata": {},
   "outputs": [
    {
     "name": "stdout",
     "output_type": "stream",
     "text": [
      "Citation            0.953247\n",
      "Warning             0.039003\n",
      "Arrest Driver       0.005290\n",
      "Arrest Passenger    0.001033\n",
      "N/D                 0.000905\n",
      "No Action           0.000522\n",
      "Name: stop_outcome, dtype: float64\n",
      "Citation            0.944636\n",
      "Warning             0.036086\n",
      "Arrest Driver       0.015767\n",
      "Arrest Passenger    0.001265\n",
      "N/D                 0.001183\n",
      "No Action           0.001063\n",
      "Name: stop_outcome, dtype: float64\n"
     ]
    }
   ],
   "source": [
    "\n",
    "# Create a DataFrame of female drivers stopped for speeding\n",
    "female_and_speeding = ri[(ri.driver_gender=='F') & (ri.violation == 'Speeding')]\n",
    "\n",
    "# Create a DataFrame of male drivers stopped for speeding\n",
    "male_and_speeding = ri[(ri.driver_gender=='M') & (ri.violation == 'Speeding')]\n",
    "\n",
    "# Compute the stop outcomes for female drivers (as proportions)\n",
    "print(female_and_speeding.stop_outcome.value_counts(normalize =True))\n",
    "\n",
    "# Compute the stop outcomes for male drivers (as proportions)\n",
    "print(male_and_speeding.stop_outcome.value_counts(normalize =True))"
   ]
  },
  {
   "cell_type": "code",
   "execution_count": 10,
   "metadata": {},
   "outputs": [
    {
     "name": "stdout",
     "output_type": "stream",
     "text": [
      "object\n",
      "False    0.963041\n",
      "True     0.036959\n",
      "Name: search_conducted, dtype: float64\n",
      "0.036959199640437465\n"
     ]
    }
   ],
   "source": [
    "# Check the data type of 'search_conducted'\n",
    "print(ri.search_conducted.dtype)\n",
    "\n",
    "# Calculate the search rate by counting the values\n",
    "print(ri.search_conducted.value_counts(normalize = True))\n",
    "\n",
    "# Calculate the search rate by taking the mean\n",
    "print(ri.search_conducted.mean())"
   ]
  },
  {
   "cell_type": "code",
   "execution_count": 13,
   "metadata": {},
   "outputs": [
    {
     "name": "stdout",
     "output_type": "stream",
     "text": [
      "0.018751239152648355\n",
      "0.04379217389811301\n"
     ]
    }
   ],
   "source": [
    "# Calculate the search rate for female drivers\n",
    "print(ri[ri.driver_gender=='F'].search_conducted.mean())\n",
    "# Calculate the search rate for male drivers\n",
    "print(ri[ri.driver_gender=='M'].search_conducted.mean())"
   ]
  },
  {
   "cell_type": "code",
   "execution_count": 18,
   "metadata": {},
   "outputs": [
    {
     "name": "stdout",
     "output_type": "stream",
     "text": [
      "Incident to Arrest                                          6998\n",
      "Probable Cause                                              4989\n",
      "Reasonable Suspicion                                        1141\n",
      "Inventory                                                   1101\n",
      "Protective Frisk                                             879\n",
      "Incident to Arrest,Inventory                                 649\n",
      "Incident to Arrest,Probable Cause                            552\n",
      "Probable Cause,Reasonable Suspicion                          334\n",
      "Probable Cause,Protective Frisk                              221\n",
      "Incident to Arrest,Protective Frisk                          158\n",
      "Incident to Arrest,Inventory,Probable Cause                  151\n",
      "Inventory,Probable Cause                                     132\n",
      "Protective Frisk,Reasonable Suspicion                         83\n",
      "Incident to Arrest,Inventory,Protective Frisk                 77\n",
      "Incident to Arrest,Probable Cause,Protective Frisk            74\n",
      "Inventory,Protective Frisk                                    52\n",
      "Incident to Arrest,Reasonable Suspicion                       49\n",
      "Incident to Arrest,Probable Cause,Reasonable Suspicion        31\n",
      "Probable Cause,Protective Frisk,Reasonable Suspicion          31\n",
      "Inventory,Reasonable Suspicion                                17\n",
      "Inventory,Probable Cause,Protective Frisk                     14\n",
      "Incident to Arrest,Inventory,Reasonable Suspicion             12\n",
      "Incident to Arrest,Protective Frisk,Reasonable Suspicion       8\n",
      "Inventory,Probable Cause,Reasonable Suspicion                  8\n",
      "Inventory,Protective Frisk,Reasonable Suspicion                1\n",
      "Name: search_type, dtype: int64\n",
      "bool\n",
      "1598\n"
     ]
    }
   ],
   "source": [
    "# Count the 'search_type' values\n",
    "print(ri.search_type.value_counts())\n",
    "\n",
    "# Check if 'search_type' contains the string 'Protective Frisk'\n",
    "ri['frisk'] = ri.search_type.str.contains('Protective Frisk', na=False)\n",
    "\n",
    "# Check the data type of 'frisk'\n",
    "print(ri.frisk.dtype)  # bool\n",
    "\n",
    "# Take the sum of 'frisk'\n",
    "print(ri.frisk.sum())"
   ]
  },
  {
   "cell_type": "code",
   "execution_count": 19,
   "metadata": {},
   "outputs": [
    {
     "name": "stdout",
     "output_type": "stream",
     "text": [
      "0.08996734601959239\n",
      "driver_gender\n",
      "F    0.066694\n",
      "M    0.093707\n",
      "Name: frisk, dtype: float64\n"
     ]
    }
   ],
   "source": [
    "# Create a DataFrame of stops in which a search was conducted\n",
    "searched = ri[ri.search_conducted==True]\n",
    "\n",
    "# Calculate the overall frisk rate by taking the mean of 'frisk'\n",
    "print(searched.frisk.mean())\n",
    "\n",
    "# Calculate the frisk rate for each gender\n",
    "print(searched.groupby('driver_gender').frisk.mean())"
   ]
  },
  {
   "cell_type": "code",
   "execution_count": 20,
   "metadata": {},
   "outputs": [
    {
     "name": "stdout",
     "output_type": "stream",
     "text": [
      "0.03454755048024903\n",
      "stop_datetime\n",
      "0     0.052151\n",
      "1     0.067127\n",
      "2     0.061067\n",
      "3     0.052613\n",
      "4     0.053897\n",
      "5     0.032657\n",
      "6     0.012949\n",
      "7     0.013829\n",
      "8     0.019717\n",
      "9     0.024699\n",
      "10    0.025583\n",
      "11    0.027078\n",
      "12    0.031361\n",
      "13    0.030250\n",
      "14    0.031531\n",
      "15    0.032125\n",
      "16    0.033519\n",
      "17    0.038989\n",
      "18    0.039902\n",
      "19    0.031366\n",
      "20    0.039292\n",
      "21    0.059956\n",
      "22    0.043980\n",
      "23    0.045087\n",
      "Name: is_arrested, dtype: float64\n"
     ]
    }
   ],
   "source": [
    "# Calculate the overall arrest rate\n",
    "print(ri.is_arrested.mean())\n",
    "\n",
    "# Calculate the hourly arrest rate\n",
    "print(ri.groupby(ri.index.hour).is_arrested.mean())\n",
    "\n",
    "# Save the hourly arrest rate\n",
    "hourly_arrest_rate = ri.groupby(ri.index.hour).is_arrested.mean()"
   ]
  },
  {
   "cell_type": "code",
   "execution_count": 21,
   "metadata": {},
   "outputs": [
    {
     "data": {
      "image/png": "[encoded data removed]",
      "text/plain": [
       "<Figure size 432x288 with 1 Axes>"
      ]
     },
     "metadata": {
      "needs_background": "light"
     },
     "output_type": "display_data"
    }
   ],
   "source": [
    "# Import matplotlib.pyplot as plt\n",
    "import matplotlib.pyplot as plt\n",
    "\n",
    "# Create a line plot of 'hourly_arrest_rate'\n",
    "hourly_arrest_rate.plot()\n",
    "\n",
    "# Add the xlabel, ylabel, and title\n",
    "plt.xlabel('Hour')\n",
    "plt.ylabel('Arrest Rate')\n",
    "plt.title('Arrest Rate by Time of Day')\n",
    "\n",
    "# Display the plot\n",
    "plt.show()\n"
   ]
  },
  {
   "cell_type": "code",
   "execution_count": 22,
   "metadata": {},
   "outputs": [
    {
     "name": "stdout",
     "output_type": "stream",
     "text": [
      "stop_datetime\n",
      "2005-12-31    0.008038\n",
      "2006-12-31    0.006624\n",
      "2007-12-31    0.008437\n",
      "2008-12-31    0.007549\n",
      "2009-12-31    0.010447\n",
      "2010-12-31    0.010142\n",
      "2011-12-31    0.011400\n",
      "2012-12-31    0.010343\n",
      "2013-12-31    0.011879\n",
      "2014-12-31    0.013176\n",
      "2015-12-31    0.010598\n",
      "Freq: A-DEC, Name: drugs_related_stop, dtype: float64\n"
     ]
    },
    {
     "data": {
      "image/png": "[encoded data removed]",
      "text/plain": [
       "<Figure size 432x288 with 1 Axes>"
      ]
     },
     "metadata": {
      "needs_background": "light"
     },
     "output_type": "display_data"
    }
   ],
   "source": [
    "# Calculate the annual rate of drug-related stops\n",
    "print(ri.drugs_related_stop.resample('A').mean())\n",
    "\n",
    "# Save the annual rate of drug-related stops\n",
    "annual_drug_rate = ri.drugs_related_stop.resample('A').mean()\n",
    "\n",
    "# Create a line plot of 'annual_drug_rate'\n",
    "annual_drug_rate.plot()\n",
    "\n",
    "# Display the plot\n",
    "plt.show()\n"
   ]
  },
  {
   "cell_type": "code",
   "execution_count": 28,
   "metadata": {},
   "outputs": [
    {
     "name": "stdout",
     "output_type": "stream",
     "text": [
      "violation  Equipment  Moving violation  Other  Registration/plates  Seat belt  \\\n",
      "district                                                                        \n",
      "Zone K1         3786              7127   1501                  628          1   \n",
      "Zone K2        11285             16440   5103                 4056       2897   \n",
      "Zone K3        12959             16218   3926                 3871       3660   \n",
      "Zone X1         1725              3711    752                  192        451   \n",
      "Zone X3        11520             17178   4069                 3532       4445   \n",
      "Zone X4        19975             29554   8865                 7551       4870   \n",
      "\n",
      "violation  Speeding  \n",
      "district             \n",
      "Zone K1       33067  \n",
      "Zone K2       57500  \n",
      "Zone K3       68234  \n",
      "Zone X1        6393  \n",
      "Zone X3       48687  \n",
      "Zone X4       54855  \n",
      "violation  Equipment  Moving violation  Other  Registration/plates  Seat belt  \\\n",
      "district                                                                        \n",
      "Zone K1         3786              7127   1501                  628          1   \n",
      "Zone K2        11285             16440   5103                 4056       2897   \n",
      "Zone K3        12959             16218   3926                 3871       3660   \n",
      "\n",
      "violation  Speeding  \n",
      "district             \n",
      "Zone K1       33067  \n",
      "Zone K2       57500  \n",
      "Zone K3       68234  \n"
     ]
    }
   ],
   "source": [
    "# Create a frequency table of districts and violations\n",
    "print(pd.crosstab(ri.district, ri.violation))\n",
    "\n",
    "# Save the frequency table as 'all_zones'\n",
    "all_zones = pd.crosstab(ri.district, ri.violation)\n",
    "\n",
    "# Select rows 'Zone K1' through 'Zone K3'\n",
    "print(all_zones.loc['Zone K1':'Zone K3'])\n",
    "\n",
    "# Save the smaller table as 'k_zones'\n",
    "k_zones = all_zones.loc['Zone K1':'Zone K3']"
   ]
  },
  {
   "cell_type": "code",
   "execution_count": 29,
   "metadata": {},
   "outputs": [
    {
     "data": {
      "image/png": "[encoded data removed]",
      "text/plain": [
       "<Figure size 432x288 with 1 Axes>"
      ]
     },
     "metadata": {
      "needs_background": "light"
     },
     "output_type": "display_data"
    },
    {
     "data": {
      "image/png": "[encoded data removed]",
      "text/plain": [
       "<Figure size 432x288 with 1 Axes>"
      ]
     },
     "metadata": {
      "needs_background": "light"
     },
     "output_type": "display_data"
    }
   ],
   "source": [
    "# Create a bar plot of 'k_zones'\n",
    "k_zones.plot(kind='bar')\n",
    "plt.show()\n",
    "\n",
    "# Create a stacked bar plot of 'k_zones'\n",
    "k_zones.plot(kind='bar', stacked=True)\n",
    "plt.show()"
   ]
  },
  {
   "cell_type": "code",
   "execution_count": 30,
   "metadata": {},
   "outputs": [
    {
     "data": {
      "image/png": "[encoded data removed]",
      "text/plain": [
       "<Figure size 432x288 with 1 Axes>"
      ]
     },
     "metadata": {
      "needs_background": "light"
     },
     "output_type": "display_data"
    }
   ],
   "source": [
    "# Create a stacked bar plot of 'k_zones'\n",
    "k_zones.plot(kind='bar', stacked=True)\n",
    "\n",
    "# Display the plot\n",
    "plt.show()"
   ]
  },
  {
   "cell_type": "code",
   "execution_count": 31,
   "metadata": {},
   "outputs": [
    {
     "name": "stdout",
     "output_type": "stream",
     "text": [
      "['0-15 Min' '16-30 Min' '30+ Min' '2' '1']\n",
      "[ 8. 23. 45. nan]\n"
     ]
    }
   ],
   "source": [
    "# Print the unique values in 'stop_duration'\n",
    "print(ri.stop_duration.unique())  # ['0-15 Min' '16-30 Min' '30+ Min']\n",
    "\n",
    "# Create a dictionary that maps strings to integers\n",
    "mapping = {'0-15 Min':8, '16-30 Min':23, '30+ Min':45}\n",
    "\n",
    "# Convert the 'stop_duration' strings to integers using the 'mapping'\n",
    "ri['stop_minutes'] = ri.stop_duration.map(mapping)\n",
    "\n",
    "# Print the unique values in 'stop_minutes'\n",
    "print(ri.stop_minutes.unique())"
   ]
  },
  {
   "cell_type": "code",
   "execution_count": 32,
   "metadata": {},
   "outputs": [
    {
     "name": "stdout",
     "output_type": "stream",
     "text": [
      "violation_raw\n",
      "APB                                 18.593814\n",
      "Call for Service                    21.963314\n",
      "Equipment/Inspection Violation      11.454326\n",
      "Motorist Assist/Courtesy            17.629929\n",
      "Other Traffic Violation             13.834359\n",
      "Registration Violation              13.543268\n",
      "Seatbelt Violation                   9.698236\n",
      "Special Detail/Directed Patrol      14.876778\n",
      "Speeding                            10.589215\n",
      "Suspicious Person                   18.374269\n",
      "Violation of City/Town Ordinance    13.230695\n",
      "Warrant                             19.769231\n",
      "Name: stop_minutes, dtype: float64\n"
     ]
    },
    {
     "data": {
      "image/png": "[encoded data removed]",
      "text/plain": [
       "<Figure size 432x288 with 1 Axes>"
      ]
     },
     "metadata": {
      "needs_background": "light"
     },
     "output_type": "display_data"
    }
   ],
   "source": [
    "\n",
    "# Calculate the mean 'stop_minutes' for each value in 'violation_raw'\n",
    "print(ri.groupby('violation_raw').stop_minutes.mean())\n",
    "\n",
    "# Save the resulting Series as 'stop_length'\n",
    "stop_length = ri.groupby('violation_raw').stop_minutes.mean()\n",
    "\n",
    "# Sort 'stop_length' by its values and create a horizontal bar plot\n",
    "stop_length.sort_values().plot(kind='barh')\n",
    "plt.show()\n"
   ]
  },
  {
   "cell_type": "code",
   "execution_count": null,
   "metadata": {},
   "outputs": [],
   "source": []
  }
 ],
 "metadata": {
  "kernelspec": {
   "display_name": "Python 3",
   "language": "python",
   "name": "python3"
  },
  "language_info": {
   "codemirror_mode": {
    "name": "ipython",
    "version": 3
   },
   "file_extension": ".py",
   "mimetype": "text/x-python",
   "name": "python",
   "nbconvert_exporter": "python",
   "pygments_lexer": "ipython3",
   "version": "3.7.6"
  }
 },
 "nbformat": 4,
 "nbformat_minor": 4
}
